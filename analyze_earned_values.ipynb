{
 "cells": [
  {
   "cell_type": "code",
   "execution_count": 3,
   "metadata": {},
   "outputs": [],
   "source": [
    "import pandas as pd\n",
    "import matplotlib.pyplot as plt\n",
    "import seaborn as sns\n",
    "import numpy as np\n",
    "import os\n",
    "from sklearn.model_selection import train_test_split\n",
    "from sklearn.linear_model import LinearRegression\n",
    "from sklearn.ensemble import RandomForestRegressor\n",
    "from sklearn.metrics import mean_squared_error, r2_score\n",
    "from sklearn.preprocessing import StandardScaler\n",
    "from matplotlib.ticker import FuncFormatter"
   ]
  },
  {
   "cell_type": "code",
   "execution_count": 4,
   "metadata": {},
   "outputs": [
    {
     "name": "stdout",
     "output_type": "stream",
     "text": [
      "Loading players.csv...\n",
      "Loading clubs.csv...\n",
      "Loading player_valuations.csv...\n",
      "Loading appearances.csv...\n",
      "\n",
      "Dataset shapes:\n",
      "Players: (32601, 23)\n",
      "Clubs: (439, 17)\n",
      "Player Valuations: (496606, 5)\n",
      "Appearances: (1706806, 13)\n"
     ]
    }
   ],
   "source": [
    "# Set plot style\n",
    "plt.style.use('default')  # Changed from 'seaborn' to 'default'\n",
    "sns.set_theme()  # This will set a nice seaborn theme\n",
    "\n",
    "# Set plot style\n",
    "plt.style.use('default')\n",
    "sns.set_theme()\n",
    "\n",
    "# Path to the CSV files directory\n",
    "csv_dir = os.path.join(os.getcwd(), \"data\")  # Point to the data directory\n",
    "\n",
    "def load_csv(filename):\n",
    "    \"\"\"Loads a CSV file and returns it as a DataFrame.\"\"\"\n",
    "    file_path = os.path.join(csv_dir, filename)\n",
    "    print(f\"Loading {filename}...\")\n",
    "    try:\n",
    "        return pd.read_csv(file_path)\n",
    "    except FileNotFoundError:\n",
    "        print(f\"Error: Could not find {file_path}\")\n",
    "        print(f\"Current working directory: {os.getcwd()}\")\n",
    "        print(f\"Files in current directory: {os.listdir('.')}\")\n",
    "        raise\n",
    "\n",
    "# Load necessary datasets\n",
    "players_df = load_csv(\"players.csv\")\n",
    "clubs_df = load_csv(\"clubs.csv\")\n",
    "player_valuations_df = load_csv(\"player_valuations.csv\")\n",
    "appearances_df = load_csv(\"appearances.csv\")\n",
    "\n",
    "# Display basic information about the datasets\n",
    "print(\"\\nDataset shapes:\")\n",
    "print(f\"Players: {players_df.shape}\")\n",
    "print(f\"Clubs: {clubs_df.shape}\")\n",
    "print(f\"Player Valuations: {player_valuations_df.shape}\")\n",
    "print(f\"Appearances: {appearances_df.shape}\") "
   ]
  },
  {
   "cell_type": "code",
   "execution_count": 8,
   "metadata": {},
   "outputs": [],
   "source": [
    "def analyze_actual_vs_earned_market_values():\n",
    "    \"\"\"\n",
    "    Analyzes the relationship between actual market values and \"earned\" market values\n",
    "    based on player performance statistics.\n",
    "    \n",
    "    The \"earned\" market value is what a player should be worth based on their\n",
    "    performance metrics and other relevant factors.\n",
    "    \"\"\"\n",
    "    print(\"\\n=== ANALYZING ACTUAL VS 'EARNED' MARKET VALUES ===\")\n",
    "    \n",
    "    # Step 1: Merge player data with their valuations\n",
    "    print(\"Merging players with their valuations...\")\n",
    "    player_values = pd.merge(\n",
    "        players_df,\n",
    "        player_valuations_df,\n",
    "        how='inner',\n",
    "        on='player_id'\n",
    "    )\n",
    "    \n",
    "    # Check the merged dataframe columns\n",
    "    print(\"\\nMerged player_values columns:\")\n",
    "    print(player_values.columns.tolist())\n",
    "    \n",
    "    # Identify the market value columns after the merge\n",
    "    market_value_cols = [col for col in player_values.columns if 'market_value' in col.lower()]\n",
    "    print(f\"\\nMarket value columns: {market_value_cols}\")\n",
    "    \n",
    "    # Use the correct market value column from the merge\n",
    "    market_value_col = 'market_value_in_eur_y' if 'market_value_in_eur_y' in player_values.columns else 'market_value_in_eur'\n",
    "    print(f\"Using market value column: {market_value_col}\")\n",
    "    \n",
    "    # Step 2: Add player performance metrics from appearances\n",
    "    print(\"Adding player performance metrics...\")\n",
    "    \n",
    "    # Check the columns in appearances_df to ensure we have the expected columns for aggregation\n",
    "    expected_columns = ['player_id', 'goals', 'assists', 'minutes_played', 'yellow_cards', 'red_cards']\n",
    "    missing_columns = [col for col in expected_columns if col not in appearances_df.columns]\n",
    "    \n",
    "    if missing_columns:\n",
    "        print(f\"Warning: Missing columns in appearances_df: {missing_columns}\")\n",
    "        print(\"Please check the appearances data structure\")\n",
    "        \n",
    "        # Create sample columns if they don't exist (for demonstration purposes)\n",
    "        for col in missing_columns:\n",
    "            if col != 'player_id':  # Skip player_id as it should exist\n",
    "                appearances_df[col] = 0\n",
    "    \n"
   ]
  },
  {
   "cell_type": "code",
   "execution_count": 9,
   "metadata": {},
   "outputs": [
    {
     "ename": "NameError",
     "evalue": "name 'train_test_split' is not defined",
     "output_type": "error",
     "traceback": [
      "\u001b[1;31m---------------------------------------------------------------------------\u001b[0m",
      "\u001b[1;31mNameError\u001b[0m                                 Traceback (most recent call last)",
      "Cell \u001b[1;32mIn[9], line 2\u001b[0m\n\u001b[0;32m      1\u001b[0m \u001b[38;5;66;03m# Split the data into training and testing sets\u001b[39;00m\n\u001b[1;32m----> 2\u001b[0m X_train, X_test, y_train, y_test \u001b[38;5;241m=\u001b[39m \u001b[43mtrain_test_split\u001b[49m(X, y, test_size\u001b[38;5;241m=\u001b[39m\u001b[38;5;241m0.2\u001b[39m, random_state\u001b[38;5;241m=\u001b[39m\u001b[38;5;241m42\u001b[39m)\n\u001b[0;32m      4\u001b[0m \u001b[38;5;66;03m# Standardize the features\u001b[39;00m\n\u001b[0;32m      5\u001b[0m scaler \u001b[38;5;241m=\u001b[39m StandardScaler()\n",
      "\u001b[1;31mNameError\u001b[0m: name 'train_test_split' is not defined"
     ]
    }
   ],
   "source": [
    "\n",
    "# Split the data into training and testing sets\n",
    "X_train, X_test, y_train, y_test = train_test_split(X, y, test_size=0.2, random_state=42)\n",
    "    \n",
    "# Standardize the features\n",
    "scaler = StandardScaler()\n",
    "X_train_scaled = scaler.fit_transform(X_train)\n",
    "X_test_scaled = scaler.transform(X_test)\n",
    "    \n",
    "# Train a Random Forest model (more robust to outliers and complex relationships)\n",
    "model = RandomForestRegressor(n_estimators=100, random_state=42)\n",
    "model.fit(X_train_scaled, y_train)\n",
    "    \n",
    "# Predict \"earned\" market values\n",
    "y_pred = model.predict(X_test_scaled)\n",
    "    \n",
    "# Calculate model performance\n",
    "r2 = r2_score(y_test, y_pred)\n",
    "rmse = np.sqrt(mean_squared_error(y_test, y_pred))\n",
    "print(f\"Model performance: R² = {r2:.4f}, RMSE = {rmse:.4f}\")\n",
    " "
   ]
  }
 ],
 "metadata": {
  "kernelspec": {
   "display_name": "Python 3",
   "language": "python",
   "name": "python3"
  },
  "language_info": {
   "codemirror_mode": {
    "name": "ipython",
    "version": 3
   },
   "file_extension": ".py",
   "mimetype": "text/x-python",
   "name": "python",
   "nbconvert_exporter": "python",
   "pygments_lexer": "ipython3",
   "version": "3.12.10"
  }
 },
 "nbformat": 4,
 "nbformat_minor": 2
}
